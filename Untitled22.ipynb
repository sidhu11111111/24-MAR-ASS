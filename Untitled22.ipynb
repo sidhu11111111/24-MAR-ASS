{
 "cells": [
  {
   "cell_type": "markdown",
   "id": "e19cf502",
   "metadata": {},
   "source": [
    "#QNO.1 ANS"
   ]
  },
  {
   "cell_type": "markdown",
   "id": "13bd270b",
   "metadata": {},
   "source": [
    "The wine quality dataset typically contains several features that are used to predict the quality of wine. These features can vary depending on the specific dataset, but some common key features include:\n",
    "\n",
    "1.Fixed acidity: Represents the total amount of acids (g/dm^3) in the wine. Acidity can contribute to the overall taste and perceived quality of the wine.\n",
    "\n",
    "2.Volatile acidity: Indicates the amount of volatile acids (g/dm^3) in the wine. High levels of volatile acidity can result in an unpleasant, vinegar-like taste, negatively affecting wine quality.\n",
    "\n",
    "3.Citric acid: Represents the concentration of citric acid (g/dm^3) in the wine. Citric acid can contribute to the freshness and flavor balance of the wine.\n",
    "\n",
    "4.Residual sugar: Refers to the amount of sugar (g/dm^3) left after the fermentation process. Residual sugar can influence the wine's sweetness and perceived quality.\n",
    "\n",
    "5.Chlorides: Represents the amount of salt (g/dm^3) in the wine. High chloride levels can negatively affect the wine's taste and quality.\n",
    "\n",
    "6.Free sulfur dioxide: Indicates the presence of free sulfur dioxide (mg/dm^3) in the wine. Sulfur dioxide acts as an antioxidant and preservative and can influence the wine's stability.\n",
    "\n",
    "7.Total sulfur dioxide: Represents the total amount of sulfur dioxide (mg/dm^3), including free and bound forms. It is also related to the stability and preservation of the wine.\n",
    "\n",
    "8.Density: Represents the density of the wine (g/cm^3). Density can be an indicator of the wine's body and alcohol content.\n",
    "\n",
    "9.pH: Indicates the acidity or alkalinity level of the wine on a scale from 0 to 14. pH can influence the overall taste and perceived quality of the wine.\n",
    "\n",
    "10Sulphates: Represents the concentration of sulfates (g/dm^3) in the wine. Sulfates can contribute to the wine's aroma and act as antimicrobial agents.\n",
    "\n",
    "11.Alcohol: Indicates the alcohol content (% vol.) of the wine. Alcohol can significantly impact the taste, body, and overall quality of the wine.\n",
    "\n",
    "These features are important in predicting wine quality because they provide information about the chemical composition and characteristics of the wine. By analyzing and understanding these features, it is possible to identify patterns and relationships that can help determine the overall quality of the wine."
   ]
  },
  {
   "cell_type": "markdown",
   "id": "f93bb4f8",
   "metadata": {},
   "source": [
    "#QNO.2 ANS"
   ]
  },
  {
   "cell_type": "markdown",
   "id": "31c62782",
   "metadata": {},
   "source": [
    "When handling missing data in the wine quality dataset or any dataset during the feature engineering process, various imputation techniques can be employed. Each technique has its advantages and disadvantages:\n",
    "\n",
    "1.Mean/median imputation: Missing values are replaced with the mean or median of the available data for that feature. This technique is simple to implement and preserves the overall distribution of the data. However, it can underestimate the uncertainty and variability in the imputed values.\n",
    "\n",
    "2.Mode imputation: Missing values are replaced with the mode (most frequent value) of the feature. This technique is useful for categorical variables. Like mean/median imputation, it is straightforward but doesn't account for uncertainty.\n",
    "\n",
    "3.Regression imputation: A regression model is created to predict missing values based on other variables in the dataset. This technique takes into account relationships between variables but assumes linearity and may introduce bias if the relationships are not accurately captured.\n",
    "\n",
    "4.Multiple imputation: Missing values are imputed multiple times, creating several complete datasets. Each imputation incorporates randomness to account for uncertainty. Multiple imputation captures the variability in the imputed values but can be computationally expensive.\n",
    "\n",
    "5.K-nearest neighbors imputation: Missing values are imputed by considering the values of the k nearest neighbors. This technique is useful when neighboring instances have similar characteristics. However, it can be sensitive to the choice of k and may introduce noise.\n",
    "\n",
    "The choice of imputation technique depends on the specific dataset, the amount of missing data, the nature of the variables, and the analysis goals. It is essential to consider the limitations and potential biases associated with each technique when making the imputation decision."
   ]
  },
  {
   "cell_type": "markdown",
   "id": "c8905e03",
   "metadata": {},
   "source": [
    "#QNO.3 ANS"
   ]
  },
  {
   "cell_type": "markdown",
   "id": "a822e299",
   "metadata": {},
   "source": [
    " Several factors can affect students' performance in exams. To analyze these factors using statistical techniques, one can employ various methods:\n",
    "\n",
    "1.Descriptive statistics: Start by summarizing and describing the data using measures such as mean, median, standard deviation, and frequency distributions. This helps provide an overview of the variables and their distributions.\n",
    "\n",
    "2.Correlation analysis: Examine the correlation between different factors and students' exam performance. Use correlation coefficients, such as Pearson's correlation, to quantify the strength and direction of the relationships. This analysis helps identify variables that are positively or negatively associated with exam scores.\n",
    "\n",
    "3.Regression analysis: Perform regression analysis to model the relationship between the dependent variable (exam scores) and independent variables (factors). Multiple regression can be used when multiple factors are involved. This analysis helps determine the impact of each factor while controlling for other variables.\n",
    "\n",
    "4.Analysis of variance (ANOVA): Conduct ANOVA to compare the mean exam scores among different groups or categories. This technique helps identify significant differences in performance based on categorical factors, such as gender, ethnicity, or educational background.\n",
    "\n",
    "5.Factor analysis: Apply factor analysis to identify underlying factors or dimensions that explain the common variance in the dataset. This analysis can help uncover latent variables that contribute to exam performance.\n",
    "\n",
    "6.Data visualization: Visualize the data using charts, graphs, and plots to gain insights into patterns, trends, and outliers. This aids in the interpretation of results and facilitates communication.\n",
    "\n",
    "By employing these statistical techniques, it is possible to identify key factors that affect students' exam performance, quantify their effects, and understand the relationships among variables."
   ]
  },
  {
   "cell_type": "markdown",
   "id": "7a2649fe",
   "metadata": {},
   "source": [
    "#QNO.4 ANS"
   ]
  },
  {
   "cell_type": "markdown",
   "id": "7d886ad5",
   "metadata": {},
   "source": [
    "Feature engineering involves selecting and transforming variables in a dataset to create new features that are more informative for model training. In the context of the student performance dataset, the process of feature engineering might include:\n",
    "\n",
    "Variable selection: Identify the variables that are most likely to be relevant to predicting students' performance. This selection can be based on domain knowledge, literature review, or exploratory data analysis.\n",
    "\n",
    "Encoding categorical variables: Convert categorical variables, such as gender or ethnicity, into numeric representations that can be used by machine learning algorithms. This can be done using techniques like one-hot encoding or label encoding.\n",
    "\n",
    "Feature scaling: Normalize numeric variables to ensure they have similar scales. Common techniques include standardization (mean=0, standard deviation=1) or min-max scaling (rescaling values between 0 and 1).\n",
    "\n",
    "Creating interaction or polynomial features: Generate new features by combining or multiplying existing variables. This can capture interactions or nonlinear relationships that may improve the model's performance.\n",
    "\n",
    "Handling missing data: Apply appropriate imputation techniques to deal with missing values, as discussed in Q2.\n",
    "\n",
    "Dimensionality reduction: Use techniques like principal component analysis (PCA) to reduce the number of features while retaining the most important information. This can help simplify the model and alleviate the curse of dimensionality.\n",
    "\n",
    "The selection and transformation of variables in feature engineering aim to enhance the predictive power of the model by providing it with more meaningful and representative input features."
   ]
  },
  {
   "cell_type": "markdown",
   "id": "57d0586a",
   "metadata": {},
   "source": [
    "#QNO.5 ANS"
   ]
  },
  {
   "cell_type": "code",
   "execution_count": 1,
   "id": "3b7dd812",
   "metadata": {},
   "outputs": [],
   "source": [
    "import pandas as pd\n",
    "import numpy as np\n",
    "import matplotlib.pyplot as plt\n",
    "%matplotlib inline\n",
    "import seaborn as sns\n",
    "from warnings import filterwarnings\n",
    "filterwarnings('ignore')"
   ]
  },
  {
   "cell_type": "code",
   "execution_count": 6,
   "id": "4938c201",
   "metadata": {},
   "outputs": [
    {
     "data": {
      "text/html": [
       "<div>\n",
       "<style scoped>\n",
       "    .dataframe tbody tr th:only-of-type {\n",
       "        vertical-align: middle;\n",
       "    }\n",
       "\n",
       "    .dataframe tbody tr th {\n",
       "        vertical-align: top;\n",
       "    }\n",
       "\n",
       "    .dataframe thead th {\n",
       "        text-align: right;\n",
       "    }\n",
       "</style>\n",
       "<table border=\"1\" class=\"dataframe\">\n",
       "  <thead>\n",
       "    <tr style=\"text-align: right;\">\n",
       "      <th></th>\n",
       "      <th>7.4</th>\n",
       "      <th>0.7</th>\n",
       "      <th>0.0</th>\n",
       "      <th>1.9</th>\n",
       "      <th>0.076</th>\n",
       "      <th>11.0</th>\n",
       "      <th>34.0</th>\n",
       "      <th>0.9978</th>\n",
       "      <th>3.51</th>\n",
       "      <th>0.56</th>\n",
       "      <th>9.4</th>\n",
       "      <th>5</th>\n",
       "    </tr>\n",
       "  </thead>\n",
       "  <tbody>\n",
       "    <tr>\n",
       "      <th>0</th>\n",
       "      <td>7.8</td>\n",
       "      <td>0.88</td>\n",
       "      <td>0.00</td>\n",
       "      <td>2.6</td>\n",
       "      <td>0.098</td>\n",
       "      <td>25.0</td>\n",
       "      <td>67.0</td>\n",
       "      <td>0.9968</td>\n",
       "      <td>3.20</td>\n",
       "      <td>0.68</td>\n",
       "      <td>9.8</td>\n",
       "      <td>5</td>\n",
       "    </tr>\n",
       "    <tr>\n",
       "      <th>1</th>\n",
       "      <td>7.8</td>\n",
       "      <td>0.76</td>\n",
       "      <td>0.04</td>\n",
       "      <td>2.3</td>\n",
       "      <td>0.092</td>\n",
       "      <td>15.0</td>\n",
       "      <td>54.0</td>\n",
       "      <td>0.9970</td>\n",
       "      <td>3.26</td>\n",
       "      <td>0.65</td>\n",
       "      <td>9.8</td>\n",
       "      <td>5</td>\n",
       "    </tr>\n",
       "    <tr>\n",
       "      <th>2</th>\n",
       "      <td>11.2</td>\n",
       "      <td>0.28</td>\n",
       "      <td>0.56</td>\n",
       "      <td>1.9</td>\n",
       "      <td>0.075</td>\n",
       "      <td>17.0</td>\n",
       "      <td>60.0</td>\n",
       "      <td>0.9980</td>\n",
       "      <td>3.16</td>\n",
       "      <td>0.58</td>\n",
       "      <td>9.8</td>\n",
       "      <td>6</td>\n",
       "    </tr>\n",
       "    <tr>\n",
       "      <th>3</th>\n",
       "      <td>7.4</td>\n",
       "      <td>0.70</td>\n",
       "      <td>0.00</td>\n",
       "      <td>1.9</td>\n",
       "      <td>0.076</td>\n",
       "      <td>11.0</td>\n",
       "      <td>34.0</td>\n",
       "      <td>0.9978</td>\n",
       "      <td>3.51</td>\n",
       "      <td>0.56</td>\n",
       "      <td>9.4</td>\n",
       "      <td>5</td>\n",
       "    </tr>\n",
       "    <tr>\n",
       "      <th>4</th>\n",
       "      <td>7.4</td>\n",
       "      <td>0.66</td>\n",
       "      <td>0.00</td>\n",
       "      <td>1.8</td>\n",
       "      <td>0.075</td>\n",
       "      <td>13.0</td>\n",
       "      <td>40.0</td>\n",
       "      <td>0.9978</td>\n",
       "      <td>3.51</td>\n",
       "      <td>0.56</td>\n",
       "      <td>9.4</td>\n",
       "      <td>5</td>\n",
       "    </tr>\n",
       "  </tbody>\n",
       "</table>\n",
       "</div>"
      ],
      "text/plain": [
       "    7.4   0.7   0.0  1.9  0.076  11.0  34.0  0.9978  3.51  0.56  9.4  5\n",
       "0   7.8  0.88  0.00  2.6  0.098  25.0  67.0  0.9968  3.20  0.68  9.8  5\n",
       "1   7.8  0.76  0.04  2.3  0.092  15.0  54.0  0.9970  3.26  0.65  9.8  5\n",
       "2  11.2  0.28  0.56  1.9  0.075  17.0  60.0  0.9980  3.16  0.58  9.8  6\n",
       "3   7.4  0.70  0.00  1.9  0.076  11.0  34.0  0.9978  3.51  0.56  9.4  5\n",
       "4   7.4  0.66  0.00  1.8  0.075  13.0  40.0  0.9978  3.51  0.56  9.4  5"
      ]
     },
     "execution_count": 6,
     "metadata": {},
     "output_type": "execute_result"
    }
   ],
   "source": [
    "df = pd.read_csv('winequality-red.csv', header=1)\n",
    "df.head()"
   ]
  },
  {
   "cell_type": "code",
   "execution_count": 7,
   "id": "648a9e19",
   "metadata": {},
   "outputs": [],
   "source": [
    "data = dataset.to_dict(orient = 'records')"
   ]
  },
  {
   "cell_type": "code",
   "execution_count": 8,
   "id": "bc234c5e",
   "metadata": {},
   "outputs": [
    {
     "name": "stdout",
     "output_type": "stream",
     "text": [
      "<class 'pandas.core.frame.DataFrame'>\n",
      "RangeIndex: 1598 entries, 0 to 1597\n",
      "Data columns (total 12 columns):\n",
      " #   Column  Non-Null Count  Dtype  \n",
      "---  ------  --------------  -----  \n",
      " 0   7.4     1598 non-null   float64\n",
      " 1   0.7     1598 non-null   float64\n",
      " 2   0.0     1598 non-null   float64\n",
      " 3   1.9     1598 non-null   float64\n",
      " 4   0.076   1598 non-null   float64\n",
      " 5   11.0    1598 non-null   float64\n",
      " 6   34.0    1598 non-null   float64\n",
      " 7   0.9978  1598 non-null   float64\n",
      " 8   3.51    1598 non-null   float64\n",
      " 9   0.56    1598 non-null   float64\n",
      " 10  9.4     1598 non-null   float64\n",
      " 11  5       1598 non-null   int64  \n",
      "dtypes: float64(11), int64(1)\n",
      "memory usage: 149.9 KB\n"
     ]
    }
   ],
   "source": [
    "df.info()"
   ]
  },
  {
   "cell_type": "code",
   "execution_count": 9,
   "id": "ab622330",
   "metadata": {},
   "outputs": [
    {
     "data": {
      "text/html": [
       "<div>\n",
       "<style scoped>\n",
       "    .dataframe tbody tr th:only-of-type {\n",
       "        vertical-align: middle;\n",
       "    }\n",
       "\n",
       "    .dataframe tbody tr th {\n",
       "        vertical-align: top;\n",
       "    }\n",
       "\n",
       "    .dataframe thead th {\n",
       "        text-align: right;\n",
       "    }\n",
       "</style>\n",
       "<table border=\"1\" class=\"dataframe\">\n",
       "  <thead>\n",
       "    <tr style=\"text-align: right;\">\n",
       "      <th></th>\n",
       "      <th>7.4</th>\n",
       "      <th>0.7</th>\n",
       "      <th>0.0</th>\n",
       "      <th>1.9</th>\n",
       "      <th>0.076</th>\n",
       "      <th>11.0</th>\n",
       "      <th>34.0</th>\n",
       "      <th>0.9978</th>\n",
       "      <th>3.51</th>\n",
       "      <th>0.56</th>\n",
       "      <th>9.4</th>\n",
       "      <th>5</th>\n",
       "    </tr>\n",
       "  </thead>\n",
       "  <tbody>\n",
       "  </tbody>\n",
       "</table>\n",
       "</div>"
      ],
      "text/plain": [
       "Empty DataFrame\n",
       "Columns: [7.4, 0.7, 0.0, 1.9, 0.076, 11.0, 34.0, 0.9978, 3.51, 0.56, 9.4, 5]\n",
       "Index: []"
      ]
     },
     "execution_count": 9,
     "metadata": {},
     "output_type": "execute_result"
    }
   ],
   "source": [
    "df[df.isnull().any(axis=1)]"
   ]
  },
  {
   "cell_type": "code",
   "execution_count": 10,
   "id": "d082af08",
   "metadata": {},
   "outputs": [],
   "source": [
    "df.loc[:122,'Region']=1\n",
    "df.loc[122:,'Region']=2\n",
    "df[['Region']] = df[['Region']].astype(int)"
   ]
  },
  {
   "cell_type": "code",
   "execution_count": 11,
   "id": "78176749",
   "metadata": {},
   "outputs": [
    {
     "data": {
      "text/plain": [
       "7.4       0\n",
       "0.7       0\n",
       "0.0       0\n",
       "1.9       0\n",
       "0.076     0\n",
       "11.0      0\n",
       "34.0      0\n",
       "0.9978    0\n",
       "3.51      0\n",
       "0.56      0\n",
       "9.4       0\n",
       "5         0\n",
       "Region    0\n",
       "dtype: int64"
      ]
     },
     "execution_count": 11,
     "metadata": {},
     "output_type": "execute_result"
    }
   ],
   "source": [
    "df.isnull().sum()"
   ]
  },
  {
   "cell_type": "code",
   "execution_count": 12,
   "id": "686290bc",
   "metadata": {},
   "outputs": [
    {
     "data": {
      "text/plain": [
       "(1598, 13)"
      ]
     },
     "execution_count": 12,
     "metadata": {},
     "output_type": "execute_result"
    }
   ],
   "source": [
    "df =df.dropna().reset_index(drop=True) \n",
    "df.shape"
   ]
  },
  {
   "cell_type": "code",
   "execution_count": 13,
   "id": "21a9e96f",
   "metadata": {},
   "outputs": [
    {
     "data": {
      "text/html": [
       "<div>\n",
       "<style scoped>\n",
       "    .dataframe tbody tr th:only-of-type {\n",
       "        vertical-align: middle;\n",
       "    }\n",
       "\n",
       "    .dataframe tbody tr th {\n",
       "        vertical-align: top;\n",
       "    }\n",
       "\n",
       "    .dataframe thead th {\n",
       "        text-align: right;\n",
       "    }\n",
       "</style>\n",
       "<table border=\"1\" class=\"dataframe\">\n",
       "  <thead>\n",
       "    <tr style=\"text-align: right;\">\n",
       "      <th></th>\n",
       "      <th>7.4</th>\n",
       "      <th>0.7</th>\n",
       "      <th>0.0</th>\n",
       "      <th>1.9</th>\n",
       "      <th>0.076</th>\n",
       "      <th>11.0</th>\n",
       "      <th>34.0</th>\n",
       "      <th>0.9978</th>\n",
       "      <th>3.51</th>\n",
       "      <th>0.56</th>\n",
       "      <th>9.4</th>\n",
       "      <th>5</th>\n",
       "      <th>Region</th>\n",
       "    </tr>\n",
       "  </thead>\n",
       "  <tbody>\n",
       "    <tr>\n",
       "      <th>122</th>\n",
       "      <td>8.0</td>\n",
       "      <td>0.71</td>\n",
       "      <td>0.0</td>\n",
       "      <td>2.6</td>\n",
       "      <td>0.08</td>\n",
       "      <td>11.0</td>\n",
       "      <td>34.0</td>\n",
       "      <td>0.9976</td>\n",
       "      <td>3.44</td>\n",
       "      <td>0.53</td>\n",
       "      <td>9.5</td>\n",
       "      <td>5</td>\n",
       "      <td>2</td>\n",
       "    </tr>\n",
       "  </tbody>\n",
       "</table>\n",
       "</div>"
      ],
      "text/plain": [
       "     7.4   0.7  0.0  1.9  0.076  11.0  34.0  0.9978  3.51  0.56  9.4  5  \\\n",
       "122  8.0  0.71  0.0  2.6   0.08  11.0  34.0  0.9976  3.44  0.53  9.5  5   \n",
       "\n",
       "     Region  \n",
       "122       2  "
      ]
     },
     "execution_count": 13,
     "metadata": {},
     "output_type": "execute_result"
    }
   ],
   "source": [
    "df.iloc[[122]]"
   ]
  },
  {
   "cell_type": "code",
   "execution_count": 14,
   "id": "3f9e986a",
   "metadata": {},
   "outputs": [],
   "source": [
    "df= df.drop(122).reset_index(drop=True)"
   ]
  },
  {
   "cell_type": "code",
   "execution_count": 15,
   "id": "5cad7608",
   "metadata": {},
   "outputs": [
    {
     "data": {
      "text/plain": [
       "Index(['7.4', '0.7', '0.0', '1.9', '0.076', '11.0', '34.0', '0.9978', '3.51',\n",
       "       '0.56', '9.4', '5', 'Region'],\n",
       "      dtype='object')"
      ]
     },
     "execution_count": 15,
     "metadata": {},
     "output_type": "execute_result"
    }
   ],
   "source": [
    "df.columns"
   ]
  },
  {
   "cell_type": "code",
   "execution_count": 16,
   "id": "4faed3d6",
   "metadata": {},
   "outputs": [
    {
     "data": {
      "text/plain": [
       "Index(['7.4', '0.7', '0.0', '1.9', '0.076', '11.0', '34.0', '0.9978', '3.51',\n",
       "       '0.56', '9.4', '5', 'Region'],\n",
       "      dtype='object')"
      ]
     },
     "execution_count": 16,
     "metadata": {},
     "output_type": "execute_result"
    }
   ],
   "source": [
    "df.columns = df.columns.str.strip()\n",
    "df.columns"
   ]
  },
  {
   "cell_type": "code",
   "execution_count": 17,
   "id": "4643f1c3",
   "metadata": {},
   "outputs": [],
   "source": [
    "objects = [features for features in df.columns if df[features].dtypes=='O']\n",
    "for i in objects:\n",
    "    if i != 'Classes':\n",
    "        df[i] = df[i].astype(float)"
   ]
  },
  {
   "cell_type": "code",
   "execution_count": 18,
   "id": "145438f8",
   "metadata": {},
   "outputs": [
    {
     "name": "stdout",
     "output_type": "stream",
     "text": [
      "<class 'pandas.core.frame.DataFrame'>\n",
      "RangeIndex: 1597 entries, 0 to 1596\n",
      "Data columns (total 13 columns):\n",
      " #   Column  Non-Null Count  Dtype  \n",
      "---  ------  --------------  -----  \n",
      " 0   7.4     1597 non-null   float64\n",
      " 1   0.7     1597 non-null   float64\n",
      " 2   0.0     1597 non-null   float64\n",
      " 3   1.9     1597 non-null   float64\n",
      " 4   0.076   1597 non-null   float64\n",
      " 5   11.0    1597 non-null   float64\n",
      " 6   34.0    1597 non-null   float64\n",
      " 7   0.9978  1597 non-null   float64\n",
      " 8   3.51    1597 non-null   float64\n",
      " 9   0.56    1597 non-null   float64\n",
      " 10  9.4     1597 non-null   float64\n",
      " 11  5       1597 non-null   int64  \n",
      " 12  Region  1597 non-null   int32  \n",
      "dtypes: float64(11), int32(1), int64(1)\n",
      "memory usage: 156.1 KB\n"
     ]
    }
   ],
   "source": [
    "df.info()"
   ]
  },
  {
   "cell_type": "code",
   "execution_count": 19,
   "id": "ad7d9f56",
   "metadata": {},
   "outputs": [
    {
     "data": {
      "text/html": [
       "<div>\n",
       "<style scoped>\n",
       "    .dataframe tbody tr th:only-of-type {\n",
       "        vertical-align: middle;\n",
       "    }\n",
       "\n",
       "    .dataframe tbody tr th {\n",
       "        vertical-align: top;\n",
       "    }\n",
       "\n",
       "    .dataframe thead th {\n",
       "        text-align: right;\n",
       "    }\n",
       "</style>\n",
       "<table border=\"1\" class=\"dataframe\">\n",
       "  <thead>\n",
       "    <tr style=\"text-align: right;\">\n",
       "      <th></th>\n",
       "      <th>count</th>\n",
       "      <th>mean</th>\n",
       "      <th>std</th>\n",
       "      <th>min</th>\n",
       "      <th>25%</th>\n",
       "      <th>50%</th>\n",
       "      <th>75%</th>\n",
       "      <th>max</th>\n",
       "    </tr>\n",
       "  </thead>\n",
       "  <tbody>\n",
       "    <tr>\n",
       "      <th>7.4</th>\n",
       "      <td>1597.0</td>\n",
       "      <td>8.320413</td>\n",
       "      <td>1.742016</td>\n",
       "      <td>4.60000</td>\n",
       "      <td>7.1000</td>\n",
       "      <td>7.90000</td>\n",
       "      <td>9.20000</td>\n",
       "      <td>15.90000</td>\n",
       "    </tr>\n",
       "    <tr>\n",
       "      <th>0.7</th>\n",
       "      <td>1597.0</td>\n",
       "      <td>0.527599</td>\n",
       "      <td>0.179062</td>\n",
       "      <td>0.12000</td>\n",
       "      <td>0.3900</td>\n",
       "      <td>0.52000</td>\n",
       "      <td>0.64000</td>\n",
       "      <td>1.58000</td>\n",
       "    </tr>\n",
       "    <tr>\n",
       "      <th>0.0</th>\n",
       "      <td>1597.0</td>\n",
       "      <td>0.271315</td>\n",
       "      <td>0.194687</td>\n",
       "      <td>0.00000</td>\n",
       "      <td>0.0900</td>\n",
       "      <td>0.26000</td>\n",
       "      <td>0.42000</td>\n",
       "      <td>1.00000</td>\n",
       "    </tr>\n",
       "    <tr>\n",
       "      <th>1.9</th>\n",
       "      <td>1597.0</td>\n",
       "      <td>2.539167</td>\n",
       "      <td>1.410720</td>\n",
       "      <td>0.90000</td>\n",
       "      <td>1.9000</td>\n",
       "      <td>2.20000</td>\n",
       "      <td>2.60000</td>\n",
       "      <td>15.50000</td>\n",
       "    </tr>\n",
       "    <tr>\n",
       "      <th>0.076</th>\n",
       "      <td>1597.0</td>\n",
       "      <td>0.087478</td>\n",
       "      <td>0.047094</td>\n",
       "      <td>0.01200</td>\n",
       "      <td>0.0700</td>\n",
       "      <td>0.07900</td>\n",
       "      <td>0.09000</td>\n",
       "      <td>0.61100</td>\n",
       "    </tr>\n",
       "    <tr>\n",
       "      <th>11.0</th>\n",
       "      <td>1597.0</td>\n",
       "      <td>15.881027</td>\n",
       "      <td>10.465284</td>\n",
       "      <td>1.00000</td>\n",
       "      <td>7.0000</td>\n",
       "      <td>14.00000</td>\n",
       "      <td>21.00000</td>\n",
       "      <td>72.00000</td>\n",
       "    </tr>\n",
       "    <tr>\n",
       "      <th>34.0</th>\n",
       "      <td>1597.0</td>\n",
       "      <td>46.483406</td>\n",
       "      <td>32.912966</td>\n",
       "      <td>6.00000</td>\n",
       "      <td>22.0000</td>\n",
       "      <td>38.00000</td>\n",
       "      <td>62.00000</td>\n",
       "      <td>289.00000</td>\n",
       "    </tr>\n",
       "    <tr>\n",
       "      <th>0.9978</th>\n",
       "      <td>1597.0</td>\n",
       "      <td>0.996745</td>\n",
       "      <td>0.001888</td>\n",
       "      <td>0.99007</td>\n",
       "      <td>0.9956</td>\n",
       "      <td>0.99675</td>\n",
       "      <td>0.99784</td>\n",
       "      <td>1.00369</td>\n",
       "    </tr>\n",
       "    <tr>\n",
       "      <th>3.51</th>\n",
       "      <td>1597.0</td>\n",
       "      <td>3.310908</td>\n",
       "      <td>0.154369</td>\n",
       "      <td>2.74000</td>\n",
       "      <td>3.2100</td>\n",
       "      <td>3.31000</td>\n",
       "      <td>3.40000</td>\n",
       "      <td>4.01000</td>\n",
       "    </tr>\n",
       "    <tr>\n",
       "      <th>0.56</th>\n",
       "      <td>1597.0</td>\n",
       "      <td>0.658291</td>\n",
       "      <td>0.169565</td>\n",
       "      <td>0.33000</td>\n",
       "      <td>0.5500</td>\n",
       "      <td>0.62000</td>\n",
       "      <td>0.73000</td>\n",
       "      <td>2.00000</td>\n",
       "    </tr>\n",
       "    <tr>\n",
       "      <th>9.4</th>\n",
       "      <td>1597.0</td>\n",
       "      <td>10.424202</td>\n",
       "      <td>1.065777</td>\n",
       "      <td>8.40000</td>\n",
       "      <td>9.5000</td>\n",
       "      <td>10.20000</td>\n",
       "      <td>11.10000</td>\n",
       "      <td>14.90000</td>\n",
       "    </tr>\n",
       "    <tr>\n",
       "      <th>5</th>\n",
       "      <td>1597.0</td>\n",
       "      <td>5.636819</td>\n",
       "      <td>0.807761</td>\n",
       "      <td>3.00000</td>\n",
       "      <td>5.0000</td>\n",
       "      <td>6.00000</td>\n",
       "      <td>6.00000</td>\n",
       "      <td>8.00000</td>\n",
       "    </tr>\n",
       "    <tr>\n",
       "      <th>Region</th>\n",
       "      <td>1597.0</td>\n",
       "      <td>1.923607</td>\n",
       "      <td>0.265709</td>\n",
       "      <td>1.00000</td>\n",
       "      <td>2.0000</td>\n",
       "      <td>2.00000</td>\n",
       "      <td>2.00000</td>\n",
       "      <td>2.00000</td>\n",
       "    </tr>\n",
       "  </tbody>\n",
       "</table>\n",
       "</div>"
      ],
      "text/plain": [
       "         count       mean        std      min      25%       50%       75%  \\\n",
       "7.4     1597.0   8.320413   1.742016  4.60000   7.1000   7.90000   9.20000   \n",
       "0.7     1597.0   0.527599   0.179062  0.12000   0.3900   0.52000   0.64000   \n",
       "0.0     1597.0   0.271315   0.194687  0.00000   0.0900   0.26000   0.42000   \n",
       "1.9     1597.0   2.539167   1.410720  0.90000   1.9000   2.20000   2.60000   \n",
       "0.076   1597.0   0.087478   0.047094  0.01200   0.0700   0.07900   0.09000   \n",
       "11.0    1597.0  15.881027  10.465284  1.00000   7.0000  14.00000  21.00000   \n",
       "34.0    1597.0  46.483406  32.912966  6.00000  22.0000  38.00000  62.00000   \n",
       "0.9978  1597.0   0.996745   0.001888  0.99007   0.9956   0.99675   0.99784   \n",
       "3.51    1597.0   3.310908   0.154369  2.74000   3.2100   3.31000   3.40000   \n",
       "0.56    1597.0   0.658291   0.169565  0.33000   0.5500   0.62000   0.73000   \n",
       "9.4     1597.0  10.424202   1.065777  8.40000   9.5000  10.20000  11.10000   \n",
       "5       1597.0   5.636819   0.807761  3.00000   5.0000   6.00000   6.00000   \n",
       "Region  1597.0   1.923607   0.265709  1.00000   2.0000   2.00000   2.00000   \n",
       "\n",
       "              max  \n",
       "7.4      15.90000  \n",
       "0.7       1.58000  \n",
       "0.0       1.00000  \n",
       "1.9      15.50000  \n",
       "0.076     0.61100  \n",
       "11.0     72.00000  \n",
       "34.0    289.00000  \n",
       "0.9978    1.00369  \n",
       "3.51      4.01000  \n",
       "0.56      2.00000  \n",
       "9.4      14.90000  \n",
       "5         8.00000  \n",
       "Region    2.00000  "
      ]
     },
     "execution_count": 19,
     "metadata": {},
     "output_type": "execute_result"
    }
   ],
   "source": [
    "df.describe().T"
   ]
  },
  {
   "cell_type": "code",
   "execution_count": 22,
   "id": "9c70f844",
   "metadata": {},
   "outputs": [
    {
     "data": {
      "image/png": "[encoded data removed]",
      "text/plain": [
       "<Figure size 2000x1500 with 16 Axes>"
      ]
     },
     "metadata": {},
     "output_type": "display_data"
    }
   ],
   "source": [
    "plt.style.use('seaborn')\n",
    "df.hist(bins=50, figsize=(20,15), ec = 'b')\n",
    "plt.show()"
   ]
  },
  {
   "cell_type": "markdown",
   "id": "a02f08fa",
   "metadata": {},
   "source": [
    "#QNO.6 ANS"
   ]
  },
  {
   "cell_type": "markdown",
   "id": "4fcf79b5",
   "metadata": {},
   "source": [
    " To perform principal component analysis (PCA) on the wine quality dataset and reduce the number of features, you can follow these steps:\n",
    "\n",
    "Standardize the data: Since PCA is sensitive to the scale of the variables, it's important to standardize the data so that each feature has a mean of 0 and a standard deviation of 1. This can be achieved using techniques like z-score standardization.\n",
    "\n",
    "Apply PCA: Use a PCA algorithm to calculate the principal components. This can be done using libraries like scikit-learn in Python.\n",
    "\n",
    "Determine the explained variance: Assess the amount of variance explained by each principal component. The explained variance indicates the proportion of the total variance captured by each component.\n",
    "\n",
    "Select the number of components: Determine the minimum number of principal components required to explain a desired amount of variance. In this case, you need to identify the number of components that explain at least 90% of the variance.\n",
    "\n",
    "Transform the data: Transform the original dataset into the reduced-dimensional space using the selected number of principal components.\n"
   ]
  }
 ],
 "metadata": {
  "kernelspec": {
   "display_name": "Python 3 (ipykernel)",
   "language": "python",
   "name": "python3"
  },
  "language_info": {
   "codemirror_mode": {
    "name": "ipython",
    "version": 3
   },
   "file_extension": ".py",
   "mimetype": "text/x-python",
   "name": "python",
   "nbconvert_exporter": "python",
   "pygments_lexer": "ipython3",
   "version": "3.10.9"
  }
 },
 "nbformat": 4,
 "nbformat_minor": 5
}
